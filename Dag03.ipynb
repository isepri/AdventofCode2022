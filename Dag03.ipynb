{
 "cells": [
  {
   "cell_type": "code",
   "execution_count": 59,
   "id": "0d4caabf-0879-4a85-af59-7a33c5136889",
   "metadata": {},
   "outputs": [],
   "source": [
    "import string"
   ]
  },
  {
   "cell_type": "code",
   "execution_count": 60,
   "id": "ab73596c-dec6-48ac-8b82-d62b3f4e70e7",
   "metadata": {},
   "outputs": [],
   "source": [
    "with open('/appl/homedir/prinsl5/AoC2022/aoc2022/data/Dag03_1.txt') as t:\n",
    "    text = t.read().splitlines()"
   ]
  },
  {
   "cell_type": "markdown",
   "id": "4aa21871-db2d-4722-af21-43f7b45c3770",
   "metadata": {},
   "source": [
    "### Deel 1"
   ]
  },
  {
   "cell_type": "markdown",
   "id": "3839bdda-8a8a-44de-927d-5f6f5c10c150",
   "metadata": {},
   "source": [
    "Split de items per rucksack halverwege (per compartiment) en maak een sublist van de twee compartimenten per rucksack"
   ]
  },
  {
   "cell_type": "code",
   "execution_count": 110,
   "id": "fe4a7352-5aa0-4b56-b9bd-b7b7e7674c73",
   "metadata": {},
   "outputs": [],
   "source": [
    "rucksacks = []\n",
    "for rucksack in text:\n",
    "    rucksacks.append([rucksack[:len(rucksack)//2], rucksack[len(rucksack)//2:]])"
   ]
  },
  {
   "cell_type": "markdown",
   "id": "aa47f7ee-92cc-4887-8541-8bae00170ca6",
   "metadata": {},
   "source": [
    "Check welke items van compartiment 1 ook in compartiment 2 zitten"
   ]
  },
  {
   "cell_type": "code",
   "execution_count": 113,
   "id": "5908190b-acb8-4a9d-aa72-e665dbfaba48",
   "metadata": {},
   "outputs": [],
   "source": [
    "shareditems = []\n",
    "for rucksack in rucksacks:\n",
    "    items = [x for x in rucksack[1] if x in list(rucksack[0])]\n",
    "    shareditems.append(items[0])"
   ]
  },
  {
   "cell_type": "markdown",
   "id": "cd967568-c88f-4ff7-b763-c7f523374087",
   "metadata": {},
   "source": [
    "Maak een dictonary met key is a t/m z en vervolgens A t/m Z en value is 1 t/m 52"
   ]
  },
  {
   "cell_type": "code",
   "execution_count": 114,
   "id": "40505f6d-2742-4d22-b14d-69f21ee015c8",
   "metadata": {},
   "outputs": [],
   "source": [
    "list_items = list(string.ascii_lowercase + string.ascii_uppercase)\n",
    "list_prio = list(range(1,53))\n",
    "items_prio = dict(zip(list_items, list_prio))"
   ]
  },
  {
   "cell_type": "markdown",
   "id": "7cae36f9-6da1-473f-bee7-3e6e48f36b37",
   "metadata": {},
   "source": [
    "Gebruik de dictonary om voor elk item de prio te krijgen en sommeer de prios"
   ]
  },
  {
   "cell_type": "code",
   "execution_count": 115,
   "id": "35348844-7e57-4215-aa52-ffd1200ca34c",
   "metadata": {},
   "outputs": [
    {
     "name": "stdout",
     "output_type": "stream",
     "text": [
      "7821\n"
     ]
    }
   ],
   "source": [
    "prios = [items_prio.get(item,item) for item in shareditems]\n",
    "print(sum(prios))"
   ]
  },
  {
   "cell_type": "markdown",
   "id": "b2db1bac-0999-40c9-8593-1b46c28794f4",
   "metadata": {},
   "source": [
    "### Deel 2"
   ]
  },
  {
   "cell_type": "markdown",
   "id": "de9877db-821a-498d-8487-128568e5d76a",
   "metadata": {},
   "source": [
    "Maak sublists van 3"
   ]
  },
  {
   "cell_type": "code",
   "execution_count": 76,
   "id": "179ea97c-92ab-4a11-ab9c-f16523117e45",
   "metadata": {},
   "outputs": [],
   "source": [
    "groups = [text[n: n+3] for n in range(0, len(text), 3)]"
   ]
  },
  {
   "cell_type": "markdown",
   "id": "650a3972-3242-4b84-88bd-846078098d4c",
   "metadata": {},
   "source": [
    "Check welke letters in rucksack 1 en 2 zitten, en check vervolgens welke van die overeenkomstige letters ook in rucksack 3 zitten om de batch te bepalen"
   ]
  },
  {
   "cell_type": "code",
   "execution_count": 116,
   "id": "db176a98-9123-4b7d-a516-c4598349ee8c",
   "metadata": {},
   "outputs": [],
   "source": [
    "batch = []\n",
    "for group in groups:\n",
    "    items_sub = [x for x in group[1] if x in list(group[0])]\n",
    "    items = [x for x in group[2] if x in items_sub]\n",
    "    batch.append(items[0])"
   ]
  },
  {
   "cell_type": "markdown",
   "id": "5447a5c2-ef96-479a-a7e2-23ec63f3b8f3",
   "metadata": {},
   "source": [
    "Bepaal de prios van de batches en sommeer"
   ]
  },
  {
   "cell_type": "code",
   "execution_count": 109,
   "id": "3fb92bc3-8efc-400c-81e7-31ffbd57afad",
   "metadata": {},
   "outputs": [
    {
     "name": "stdout",
     "output_type": "stream",
     "text": [
      "2752\n"
     ]
    }
   ],
   "source": [
    "batch_prios = [items_prio.get(item,item) for item in batch]\n",
    "print(sum(batch_prios))"
   ]
  },
  {
   "cell_type": "code",
   "execution_count": null,
   "id": "d4a4970b-4e77-45db-b9d0-ac1c8357eaed",
   "metadata": {},
   "outputs": [],
   "source": []
  }
 ],
 "metadata": {
  "kernelspec": {
   "display_name": "AoC2022",
   "language": "python",
   "name": "aoc2022"
  },
  "language_info": {
   "codemirror_mode": {
    "name": "ipython",
    "version": 3
   },
   "file_extension": ".py",
   "mimetype": "text/x-python",
   "name": "python",
   "nbconvert_exporter": "python",
   "pygments_lexer": "ipython3",
   "version": "3.9.7"
  }
 },
 "nbformat": 4,
 "nbformat_minor": 5
}
