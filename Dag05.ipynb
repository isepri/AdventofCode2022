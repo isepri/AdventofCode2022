{
 "cells": [
  {
   "cell_type": "code",
   "execution_count": 1,
   "id": "78135c39-724a-46bc-b620-3df7fd223414",
   "metadata": {},
   "outputs": [],
   "source": [
    "import copy"
   ]
  },
  {
   "cell_type": "markdown",
   "id": "adf61002-b8e7-4f2f-9f61-a3b10dbd4815",
   "metadata": {},
   "source": [
    "Laad data en split in twee delen op dubbele enter: stacks en instructions."
   ]
  },
  {
   "cell_type": "code",
   "execution_count": 2,
   "id": "638cffd5-e479-4e57-ae9a-37bb9d94c0a9",
   "metadata": {},
   "outputs": [],
   "source": [
    "with open('/appl/homedir/prinsl5/AoC2022/aoc2022/data/Dag05.txt') as t:\n",
    "    text = t.read().split('\\n\\n')"
   ]
  },
  {
   "cell_type": "markdown",
   "id": "9b4ae7ca-e8e6-4dae-8d7f-27137dd12fae",
   "metadata": {},
   "source": [
    "### Deel 1"
   ]
  },
  {
   "cell_type": "markdown",
   "id": "b21aff61-2e4a-485e-8138-3c4d352a7401",
   "metadata": {},
   "source": [
    "Data prep stacks"
   ]
  },
  {
   "cell_type": "code",
   "execution_count": 3,
   "id": "982e4eaa-0e65-42f7-8457-dee2115dff10",
   "metadata": {},
   "outputs": [
    {
     "data": {
      "text/plain": [
       "[['1', 'R', 'N', 'F', 'V', 'L', 'J', 'S', 'M'],\n",
       " ['2', 'P', 'N', 'D', 'Z', 'F', 'J', 'W', 'H'],\n",
       " ['3', 'W', 'R', 'C', 'D', 'G'],\n",
       " ['4', 'N', 'B', 'S'],\n",
       " ['5', 'M', 'Z', 'W', 'P', 'C', 'B', 'F', 'N'],\n",
       " ['6', 'P', 'R', 'M', 'W'],\n",
       " ['7', 'R', 'T', 'N', 'G', 'L', 'S', 'W'],\n",
       " ['8', 'Q', 'T', 'H', 'F', 'N', 'B', 'V'],\n",
       " ['9', 'L', 'M', 'H', 'Z', 'N', 'F']]"
      ]
     },
     "metadata": {},
     "output_type": "display_data"
    }
   ],
   "source": [
    "stacks_text = text[0]\n",
    "stacks_list = [stacks_text[n: n+4] for n in range(0, len(stacks_text), 4)] # split op elke 4 characters\n",
    "stacks_matrix = [stacks_list[n: n+9] for n in range(0, len(stacks_list), 9)] # maak sublists van 9 groepjes van 4 characters\n",
    "stacks_pivot = [[row[i] for row in stacks_matrix] for i in range(9)] # draai 'matrix' om\n",
    "stacks_rev = [list(reversed(stack)) for stack in stacks_pivot] # draai volgorde sublists om\n",
    "stacks_clean = [[item.strip('[]\\n ') for item in stack] for stack in stacks_rev] # haal haken, spaties en enters weg\n",
    "stacks = [[s for s in stack if len(s)>0] for stack in stacks_clean] # verwijder lege list items\n",
    "display(stacks)"
   ]
  },
  {
   "cell_type": "markdown",
   "id": "9ade1f5b-5fd1-46fb-8fa0-2e53b8448e4b",
   "metadata": {},
   "source": [
    "Data prep instructions"
   ]
  },
  {
   "cell_type": "code",
   "execution_count": 4,
   "id": "35a7d3a1-c9a8-4c19-b59e-0b6a9d8a1f1c",
   "metadata": {},
   "outputs": [
    {
     "data": {
      "text/plain": [
       "[[1, 7, 6], [1, 9, 4], [4, 9, 6], [1, 2, 3], [7, 8, 6]]"
      ]
     },
     "metadata": {},
     "output_type": "display_data"
    }
   ],
   "source": [
    "instructions_text = text[1].split('\\n')\n",
    "instructions_nr = [int(item) for subitem in instructions_text for item in subitem.split(' ') if item.isdigit()] # neem nummers uit tekst en maak hier een lijst van\n",
    "instructions = [instructions_nr[n: n+3] for n in range(0, len(instructions_nr), 3)] # maak sublists per 3 \n",
    "display(instructions[:5])"
   ]
  },
  {
   "cell_type": "markdown",
   "id": "fce24aa7-f859-4391-8c6e-cb0e8ac069b1",
   "metadata": {},
   "source": [
    "Maak functie die in het geval van deel 1 (cratemover 9000) per instructie de kratten één voor één verplaatst van de ene stapel naar de andere, en bij deel 2 (cratemover 9001) per instructie de kratten in één keer verplaatst van de ene stapel naar de andere"
   ]
  },
  {
   "cell_type": "code",
   "execution_count": 5,
   "id": "ce15a0b7-1978-4070-b9b3-a8dfa73e7382",
   "metadata": {},
   "outputs": [],
   "source": [
    "def rearrange_crates(input_stacks, cratemover):\n",
    "    st = copy.deepcopy(input_stacks)\n",
    "    for row in instructions:\n",
    "        aantal = row[0]\n",
    "        van = row[1] - 1\n",
    "        naar = row[2] - 1\n",
    "        if cratemover == 9000:\n",
    "            for item in range(1, aantal + 1):\n",
    "                st[naar] += st[van][-1]\n",
    "                del [st[van][-1]]\n",
    "        elif cratemover == 9001:\n",
    "            st[naar] += st[van][-aantal:]\n",
    "            del [st[van][-aantal:]]\n",
    "    return(st)"
   ]
  },
  {
   "cell_type": "markdown",
   "id": "88eee26e-e15b-4722-b9a1-17959941d330",
   "metadata": {},
   "source": [
    "Voer functie uit voor 9000 en de letters van de bovenste (laatste in list) kratten"
   ]
  },
  {
   "cell_type": "code",
   "execution_count": 6,
   "id": "0fe52fec-fced-4137-8d25-f1b1fd3da9ff",
   "metadata": {},
   "outputs": [
    {
     "name": "stdout",
     "output_type": "stream",
     "text": [
      "QPJPLMNNR\n"
     ]
    }
   ],
   "source": [
    "stacks_9000 = rearrange_crates(stacks, 9000)\n",
    "message_9000 = ''\n",
    "for stack in stacks_9000:\n",
    "    message_9000 += stack[-1]\n",
    "print(message_9000)"
   ]
  },
  {
   "cell_type": "markdown",
   "id": "28aec66b-791c-4ec9-a734-37eef84531ed",
   "metadata": {},
   "source": [
    "### Deel 2"
   ]
  },
  {
   "cell_type": "markdown",
   "id": "b0f4009a-f9d6-43da-b709-b1fccfa2bd4f",
   "metadata": {},
   "source": [
    "Voer functie uit voor 9001 en de letters van de bovenste (laatste in list) kratten"
   ]
  },
  {
   "cell_type": "code",
   "execution_count": 7,
   "id": "9d0c0342-aefc-464e-aa18-06f9dce37a78",
   "metadata": {},
   "outputs": [
    {
     "name": "stdout",
     "output_type": "stream",
     "text": [
      "BQDNWJPVJ\n"
     ]
    }
   ],
   "source": [
    "stacks_9001 = rearrange_crates(stacks, 9001)\n",
    "message_9001 = ''\n",
    "for stack in stacks_9001:\n",
    "    message_9001 += stack[-1]\n",
    "print(message_9001)"
   ]
  }
 ],
 "metadata": {
  "kernelspec": {
   "display_name": "AoC2022",
   "language": "python",
   "name": "aoc2022"
  },
  "language_info": {
   "codemirror_mode": {
    "name": "ipython",
    "version": 3
   },
   "file_extension": ".py",
   "mimetype": "text/x-python",
   "name": "python",
   "nbconvert_exporter": "python",
   "pygments_lexer": "ipython3",
   "version": "3.9.7"
  }
 },
 "nbformat": 4,
 "nbformat_minor": 5
}
