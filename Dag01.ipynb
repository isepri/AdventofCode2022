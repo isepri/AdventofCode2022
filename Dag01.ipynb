{
 "cells": [
  {
   "cell_type": "code",
   "execution_count": 17,
   "id": "dc74757a-c8db-4b2c-876c-959a39a25b0b",
   "metadata": {},
   "outputs": [],
   "source": [
    "import os\n",
    "from itertools import groupby"
   ]
  },
  {
   "cell_type": "markdown",
   "id": "6bbb9bf3-9609-4ede-8cf3-b60ee72c64a4",
   "metadata": {},
   "source": [
    "### Deel 1"
   ]
  },
  {
   "cell_type": "markdown",
   "id": "217a3727-6f10-4eac-8a82-bb4dfa8dc938",
   "metadata": {},
   "source": [
    "Laad de data, maak deze numeriek en split naar sublist bij elke ''. Sommeer vervolgens elke sublist om het totaal aantal calories per elf te krijgen en neem de max."
   ]
  },
  {
   "cell_type": "code",
   "execution_count": 12,
   "id": "a033dc31-d15f-44cd-b85c-5c2b5bb8ddc9",
   "metadata": {},
   "outputs": [],
   "source": [
    "with open('/appl/homedir/prinsl5/AoC2022/aoc2022/data/Dag01_1.txt') as t:\n",
    "    text = t.read().splitlines()"
   ]
  },
  {
   "cell_type": "code",
   "execution_count": 59,
   "id": "2307f71b-1e43-4247-a4c9-13b6f39251bd",
   "metadata": {},
   "outputs": [],
   "source": [
    "inventory = [list(map(int, items)) for key, items in groupby(text, lambda x: x == '') if not key]"
   ]
  },
  {
   "cell_type": "code",
   "execution_count": 60,
   "id": "959d93ec-cf05-46a9-b5c2-db1ccc627168",
   "metadata": {},
   "outputs": [],
   "source": [
    "calories = [sum(elf) for elf in inventory]"
   ]
  },
  {
   "cell_type": "code",
   "execution_count": 61,
   "id": "a16537b3-a1c1-4ae5-8088-381143119c23",
   "metadata": {},
   "outputs": [
    {
     "data": {
      "text/plain": [
       "68802"
      ]
     },
     "execution_count": 61,
     "metadata": {},
     "output_type": "execute_result"
    }
   ],
   "source": [
    "max(calories)"
   ]
  },
  {
   "cell_type": "markdown",
   "id": "d1a80f31-b8ca-406b-b422-602ce48f4d1e",
   "metadata": {},
   "source": [
    "### Deel 2"
   ]
  },
  {
   "cell_type": "markdown",
   "id": "3afbeb58-c8ce-4438-8e82-57deea2cd122",
   "metadata": {},
   "source": [
    "Sorteer het totaal aan calories per elf van hoog naar laag en sommeer de bovenste 3."
   ]
  },
  {
   "cell_type": "code",
   "execution_count": 62,
   "id": "252aa0f5-4e75-4a78-bfb7-4fb187706598",
   "metadata": {},
   "outputs": [],
   "source": [
    "calories.sort(reverse = True)"
   ]
  },
  {
   "cell_type": "code",
   "execution_count": 64,
   "id": "e39d4d53-c084-494c-80cf-6bf722a80120",
   "metadata": {},
   "outputs": [
    {
     "data": {
      "text/plain": [
       "205370"
      ]
     },
     "execution_count": 64,
     "metadata": {},
     "output_type": "execute_result"
    }
   ],
   "source": [
    "sum(calories[0:3])"
   ]
  },
  {
   "cell_type": "code",
   "execution_count": null,
   "id": "413f1101-2683-41cc-8b5b-2fa20b266c55",
   "metadata": {},
   "outputs": [],
   "source": []
  }
 ],
 "metadata": {
  "kernelspec": {
   "display_name": "AoC2022",
   "language": "python",
   "name": "aoc2022"
  },
  "language_info": {
   "codemirror_mode": {
    "name": "ipython",
    "version": 3
   },
   "file_extension": ".py",
   "mimetype": "text/x-python",
   "name": "python",
   "nbconvert_exporter": "python",
   "pygments_lexer": "ipython3",
   "version": "3.9.7"
  }
 },
 "nbformat": 4,
 "nbformat_minor": 5
}
