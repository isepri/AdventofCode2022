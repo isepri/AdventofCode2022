{
 "cells": [
  {
   "cell_type": "code",
   "execution_count": 1,
   "id": "4d5c4db9-391a-4e91-94aa-5d6a5a7a7ad9",
   "metadata": {},
   "outputs": [],
   "source": [
    "with open('/appl/homedir/prinsl5/AoC2022/aoc2022/data/Dag04.txt') as t:\n",
    "    text = t.read().splitlines()"
   ]
  },
  {
   "cell_type": "markdown",
   "id": "5e3d1a6e-30d6-4c2d-a534-ee226ccfd3ee",
   "metadata": {},
   "source": [
    "### Deel 1"
   ]
  },
  {
   "cell_type": "markdown",
   "id": "3de04f06-9c5c-4fd2-a793-d7189de90115",
   "metadata": {},
   "source": [
    "Maak sublist met de de numerieke min en max per duo (dus 4 getallen)"
   ]
  },
  {
   "cell_type": "code",
   "execution_count": 45,
   "id": "7fe1353d-b0dd-413a-a1f1-3009e1afbd47",
   "metadata": {},
   "outputs": [],
   "source": [
    "ranges = []\n",
    "for duo in text:\n",
    "    duo_split = duo.replace('-',',').replace(',',' ').split()\n",
    "    ranges.append([int(x) for x in duo_split])"
   ]
  },
  {
   "cell_type": "markdown",
   "id": "2772cabb-20da-48fc-a7b6-d91e52454ac2",
   "metadata": {},
   "source": [
    "Check per duo of de range van de eerste binnen de tweede valt (overlap = all) of overlapt met de tweede (overlap = any), of andersom."
   ]
  },
  {
   "cell_type": "code",
   "execution_count": 54,
   "id": "db8cdf78-6867-4885-83f0-82342e4f2d3a",
   "metadata": {},
   "outputs": [],
   "source": [
    "def find_pairs(data, overlap):\n",
    "    pair = 0\n",
    "    for duo in data:\n",
    "        range1 = range(duo[0], duo[1] + 1)\n",
    "        range2 = range(duo[2], duo[3] + 1)\n",
    "        if overlap([duo[0] in range2, duo[1] in range2]):\n",
    "            pair += 1\n",
    "        elif overlap([duo[2] in range1, duo[3] in range1]):\n",
    "            pair += 1\n",
    "    print(pair)"
   ]
  },
  {
   "cell_type": "code",
   "execution_count": 55,
   "id": "9bc08c2e-8e6f-48aa-aa5d-14c296e5244d",
   "metadata": {},
   "outputs": [
    {
     "name": "stdout",
     "output_type": "stream",
     "text": [
      "477\n"
     ]
    }
   ],
   "source": [
    "find_pairs(ranges, all)"
   ]
  },
  {
   "cell_type": "markdown",
   "id": "5616c1d7-a543-48cb-87c6-020bc809ed3d",
   "metadata": {},
   "source": [
    "### Deel 2"
   ]
  },
  {
   "cell_type": "code",
   "execution_count": 56,
   "id": "fce52b01-815a-44d9-8343-159da07ced4e",
   "metadata": {},
   "outputs": [
    {
     "name": "stdout",
     "output_type": "stream",
     "text": [
      "830\n"
     ]
    }
   ],
   "source": [
    "find_pairs(ranges, any)"
   ]
  },
  {
   "cell_type": "code",
   "execution_count": null,
   "id": "003a30de-a3c1-4735-8b49-fffd3e26156d",
   "metadata": {},
   "outputs": [],
   "source": []
  }
 ],
 "metadata": {
  "kernelspec": {
   "display_name": "AoC2022",
   "language": "python",
   "name": "aoc2022"
  },
  "language_info": {
   "codemirror_mode": {
    "name": "ipython",
    "version": 3
   },
   "file_extension": ".py",
   "mimetype": "text/x-python",
   "name": "python",
   "nbconvert_exporter": "python",
   "pygments_lexer": "ipython3",
   "version": "3.9.7"
  }
 },
 "nbformat": 4,
 "nbformat_minor": 5
}
