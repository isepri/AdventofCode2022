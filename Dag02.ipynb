{
 "cells": [
  {
   "cell_type": "code",
   "execution_count": 17,
   "id": "c7289939-ef50-40ae-851f-af272dbb7d8d",
   "metadata": {},
   "outputs": [],
   "source": [
    "import os\n",
    "from itertools import groupby\n",
    "import pandas as pd\n",
    "import numpy as np"
   ]
  },
  {
   "cell_type": "markdown",
   "id": "dc42f0a4-448b-4b59-b8f1-580b8f840ae8",
   "metadata": {},
   "source": [
    "### Deel 1"
   ]
  },
  {
   "cell_type": "code",
   "execution_count": 58,
   "id": "e0d58b55-28df-43a5-b223-9a2357fd604f",
   "metadata": {},
   "outputs": [],
   "source": [
    "df_load = pd.read_csv('/appl/homedir/prinsl5/AoC2022/aoc2022/data/Dag02_1.txt', sep = ' ', names = ['elf', 'me'])"
   ]
  },
  {
   "cell_type": "code",
   "execution_count": 59,
   "id": "2289522a-c484-452d-b69d-95696039eee4",
   "metadata": {},
   "outputs": [],
   "source": [
    "df = df_load.replace(['X', 'A', 'Y', 'B' ,'Z', 'C'], [1, 1, 2, 2, 3, 3])"
   ]
  },
  {
   "cell_type": "code",
   "execution_count": 60,
   "id": "88b12bce-1601-4780-8277-e817c481a69d",
   "metadata": {},
   "outputs": [],
   "source": [
    "def define_score(data, column):\n",
    "    conditions = [(data['elf'] == data[column]),\n",
    "                  ((data['elf'] == 1) & (data[column] == 3)),\n",
    "                  ((data['elf'] == 1) & (data[column] == 2)),\n",
    "                  ((data['elf'] == 2) & (data[column] == 1)),\n",
    "                  ((data['elf'] == 2) & (data[column] == 3)),\n",
    "                  ((data['elf'] == 3) & (data[column] == 2)),\n",
    "                  ((data['elf'] == 3) & (data[column] == 1))]\n",
    "    values = [3, 0, 6, 0, 6, 0, 6]\n",
    "    data['score'] = np.select(conditions, values)\n",
    "    print('Mijn totale score is', sum(df['score'] + df[column]))"
   ]
  },
  {
   "cell_type": "code",
   "execution_count": 61,
   "id": "10ae3aac-8852-466d-a227-0db32b937efe",
   "metadata": {},
   "outputs": [
    {
     "name": "stdout",
     "output_type": "stream",
     "text": [
      "Mijn totale score is 11063\n"
     ]
    }
   ],
   "source": [
    "define_score(df, 'me')"
   ]
  },
  {
   "cell_type": "markdown",
   "id": "583fdaf9-38b4-425b-a776-9458dd75be1a",
   "metadata": {},
   "source": [
    "### Deel 2"
   ]
  },
  {
   "cell_type": "code",
   "execution_count": 70,
   "id": "300c3834-7fc6-47a2-9213-9d8dccf19166",
   "metadata": {},
   "outputs": [],
   "source": [
    "conditions = [((df['elf'] == 1) & (df['me'] == 1)),\n",
    "              ((df['elf'] == 1) & (df['me'] == 2)),\n",
    "              ((df['elf'] == 1) & (df['me'] == 3)),\n",
    "              ((df['elf'] == 2) & (df['me'] == 1)),\n",
    "              ((df['elf'] == 2) & (df['me'] == 2)),\n",
    "              ((df['elf'] == 2) & (df['me'] == 3)),\n",
    "              ((df['elf'] == 3) & (df['me'] == 1)),\n",
    "              ((df['elf'] == 3) & (df['me'] == 2)),\n",
    "              ((df['elf'] == 3) & (df['me'] == 3))]\n",
    "values = [3, 1, 2, 1, 2, 3, 2, 3, 1]\n",
    "df['choice'] = np.select(conditions, values)"
   ]
  },
  {
   "cell_type": "code",
   "execution_count": 72,
   "id": "8f62ab7f-c985-44a3-ab78-393a45d7a77c",
   "metadata": {},
   "outputs": [
    {
     "name": "stdout",
     "output_type": "stream",
     "text": [
      "Mijn totale score is 10349\n"
     ]
    }
   ],
   "source": [
    "define_score(df, 'choice')"
   ]
  },
  {
   "cell_type": "code",
   "execution_count": null,
   "id": "1ecf62de-627b-4089-842d-48ddca1dacb3",
   "metadata": {},
   "outputs": [],
   "source": []
  }
 ],
 "metadata": {
  "kernelspec": {
   "display_name": "AoC2022",
   "language": "python",
   "name": "aoc2022"
  },
  "language_info": {
   "codemirror_mode": {
    "name": "ipython",
    "version": 3
   },
   "file_extension": ".py",
   "mimetype": "text/x-python",
   "name": "python",
   "nbconvert_exporter": "python",
   "pygments_lexer": "ipython3",
   "version": "3.9.7"
  }
 },
 "nbformat": 4,
 "nbformat_minor": 5
}
