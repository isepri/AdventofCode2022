{
 "cells": [
  {
   "cell_type": "code",
   "execution_count": 20,
   "id": "8525078b-1466-4f31-8fc7-2a6046354c34",
   "metadata": {},
   "outputs": [],
   "source": [
    "with open('/appl/homedir/prinsl5/AoC2022/aoc2022/data/Dag07.txt') as t:\n",
    "    text = t.read().splitlines()"
   ]
  },
  {
   "cell_type": "markdown",
   "id": "55699c16-b4ea-4e72-93f3-5c1ee239df00",
   "metadata": {},
   "source": [
    "### Deel 1"
   ]
  },
  {
   "cell_type": "code",
   "execution_count": 26,
   "id": "797334aa-bcc2-4075-b9ae-d1b1fe8f1832",
   "metadata": {},
   "outputs": [],
   "source": [
    "locatie = ''\n",
    "opslag = {}\n",
    "for item in text:\n",
    "    if item.startswith('$ cd'):\n",
    "        if item.endswith('/'):\n",
    "            locatie = '\\\\home'\n",
    "        elif item.endswith('..'):\n",
    "            locatie, tail = locatie.rsplit('\\\\', 1)\n",
    "        else:\n",
    "            locatie += ('\\\\' + item[5:])\n",
    "    if item[0].isdigit():\n",
    "        item_s = item.split(maxsplit = 1)\n",
    "        item_add = int(item_s[0])\n",
    "        loc_temp = [locatie, '']\n",
    "        while len(loc_temp) > 1:\n",
    "            if loc_temp[0] not in opslag:\n",
    "                opslag[loc_temp[0]] = list()\n",
    "            opslag[loc_temp[0]].extend([item_add])\n",
    "            loc_temp = loc_temp[0].rsplit('\\\\', 1)"
   ]
  },
  {
   "cell_type": "code",
   "execution_count": 27,
   "id": "4c1e48a3-1f19-4b93-b4d9-ce4587b78e52",
   "metadata": {},
   "outputs": [
    {
     "data": {
      "text/plain": [
       "1642503"
      ]
     },
     "execution_count": 27,
     "metadata": {},
     "output_type": "execute_result"
    }
   ],
   "source": [
    "size_locaties = [sum(sizes) for sizes in opslag.values() if sum(sizes) <= 100000]\n",
    "sum(size_locaties)"
   ]
  },
  {
   "cell_type": "markdown",
   "id": "6962710d-6d64-4af7-a04d-7649f07f5bfd",
   "metadata": {},
   "source": [
    "### Deel 2"
   ]
  },
  {
   "cell_type": "code",
   "execution_count": 28,
   "id": "db25044a-8dfe-49bb-920f-789255c304c3",
   "metadata": {},
   "outputs": [],
   "source": [
    "diskspace = 70000000\n",
    "neededspace = 30000000\n",
    "todelete = neededspace - (diskspace - sum(opslag['\\\\home']))"
   ]
  },
  {
   "cell_type": "code",
   "execution_count": 29,
   "id": "9c315990-019c-4727-a4e0-4d372d471aaa",
   "metadata": {},
   "outputs": [
    {
     "data": {
      "text/plain": [
       "6999588"
      ]
     },
     "execution_count": 29,
     "metadata": {},
     "output_type": "execute_result"
    }
   ],
   "source": [
    "locaties_sel = [sum(sizes) for sizes in opslag.values() if sum(sizes) >= todelete]\n",
    "locaties_sel.sort()\n",
    "locaties_sel[0]"
   ]
  },
  {
   "cell_type": "code",
   "execution_count": null,
   "id": "bf0081ba-db5d-4c71-a07c-a893c213d955",
   "metadata": {},
   "outputs": [],
   "source": []
  }
 ],
 "metadata": {
  "kernelspec": {
   "display_name": "AoC2022",
   "language": "python",
   "name": "aoc2022"
  },
  "language_info": {
   "codemirror_mode": {
    "name": "ipython",
    "version": 3
   },
   "file_extension": ".py",
   "mimetype": "text/x-python",
   "name": "python",
   "nbconvert_exporter": "python",
   "pygments_lexer": "ipython3",
   "version": "3.9.7"
  }
 },
 "nbformat": 4,
 "nbformat_minor": 5
}
