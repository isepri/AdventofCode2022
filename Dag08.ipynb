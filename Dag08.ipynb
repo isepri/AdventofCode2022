{
 "cells": [
  {
   "cell_type": "code",
   "execution_count": 2,
   "id": "7aa0d355-4f59-493a-a972-8b7020ff345d",
   "metadata": {},
   "outputs": [],
   "source": [
    "import numpy as np"
   ]
  },
  {
   "cell_type": "code",
   "execution_count": 48,
   "id": "0354b46c-d02b-4f93-97a8-1c561b009d69",
   "metadata": {},
   "outputs": [],
   "source": [
    "with open('/appl/homedir/prinsl5/AoC2022/aoc2022/data/Dag08.txt') as t:\n",
    "    text = t.read().split()"
   ]
  },
  {
   "cell_type": "code",
   "execution_count": 49,
   "id": "ee5fca1a-8856-4c66-b530-8de51f6b8762",
   "metadata": {},
   "outputs": [],
   "source": [
    "forest = np.array([list(map(int, num)) for num in text])"
   ]
  },
  {
   "cell_type": "code",
   "execution_count": 50,
   "id": "48827368-0bce-4d24-af20-9b2ab2539830",
   "metadata": {},
   "outputs": [],
   "source": [
    "rows, cols = forest.shape\n",
    "cover = np.zeros([rows, cols])"
   ]
  },
  {
   "cell_type": "markdown",
   "id": "4bd79a9a-64fc-424f-a949-df4a3114f6c5",
   "metadata": {},
   "source": [
    "### Deel 1"
   ]
  },
  {
   "cell_type": "code",
   "execution_count": 51,
   "id": "924fb89d-d577-4340-9b39-010e902c6887",
   "metadata": {},
   "outputs": [],
   "source": [
    "# bekijk voor boom op locatie i,j\n",
    "for i in range(cols):\n",
    "    for j in range(rows):\n",
    "        # bomen aan de rand zijn sowieso zichtbaar\n",
    "        if ((i == 0) | (j == 0 )| (i == cols -1) | (j == rows -1)):\n",
    "            cover[i][j] = 1           \n",
    "        else:\n",
    "            # neem de maximale waarde in de zichtlijnen van de boom. Als bij minstens één van de zichtlijnen de boom hoger is dan alle andere bomen in de lijn, is de boom zichtbaar\n",
    "            lines = [max(forest[:i, j]), max(forest[i+1:, j]), max(forest[i, :j]), max(forest[i, j+1:])]\n",
    "            if any(forest[i][j] > line for line in lines):\n",
    "                cover[i][j] = 1"
   ]
  },
  {
   "cell_type": "code",
   "execution_count": 53,
   "id": "c55d854e-6510-43fc-b4de-60666e8ac297",
   "metadata": {},
   "outputs": [
    {
     "name": "stdout",
     "output_type": "stream",
     "text": [
      "1820 trees are visible from outside the grid.\n"
     ]
    }
   ],
   "source": [
    "print(int(sum(sum(cover))), 'trees are visible from outside the grid.')"
   ]
  },
  {
   "cell_type": "markdown",
   "id": "4353cdcb-b36f-440d-819d-527447a74eab",
   "metadata": {},
   "source": [
    "### Deel 2"
   ]
  },
  {
   "cell_type": "code",
   "execution_count": 54,
   "id": "4779781f-c9ad-4fa7-a75c-0df6a051f01d",
   "metadata": {},
   "outputs": [],
   "source": [
    "scenicscore = np.zeros([rows, cols])\n",
    "#bekijk voor boom op locatie i,j\n",
    "for i in range(cols):\n",
    "    for j in range(rows):\n",
    "        # scenicscore van alle buitenste bomen is sowieso 0 (want vermenigvuldigen met 0)\n",
    "        if ((i == 0) | (j == 0 )| (i == cols -1) | (j == rows -1)):\n",
    "            scenicscore[i][j] = 0\n",
    "        else:\n",
    "            # neem elke zichtlijn vanaf boom, en keer de nummers op de lijn links en boven om zodat deze vanaf de boom gezien zijn\n",
    "            lines = [line.tolist() for line in [forest[:i, j], forest[i+1:, j], forest[i, :j],forest[i, j+1:]]]\n",
    "            lines[0].reverse()\n",
    "            lines[2].reverse()\n",
    "            dist = []\n",
    "            for line in lines:\n",
    "                # bekijk voor elke zichtlijn of er een zichtbekende boom is en eem hier index +1 (= afsand vanaf boom) van\n",
    "                dis = []\n",
    "                for count,v in enumerate(line):\n",
    "                    if v >= forest[i,j]:\n",
    "                        dis += [count + 1]\n",
    "                if len(dis) == 0:\n",
    "                    # geen zichtbeperkende boom? neem dan de lengte van de zichtlijn als afstand\n",
    "                    dis = [len(line)]\n",
    "                dist += [dis]\n",
    "                #neem alleen de eerste zichtbeperkende boom vanaf de boom voor elk van de vier zichtlijnen\n",
    "                distance = [d[0] for d in dist]\n",
    "        #bereken op basis van de afstanden van de vier zichtlijnen de scenicscore\n",
    "        scenicscore[i][j] = np.prod(distance)"
   ]
  },
  {
   "cell_type": "code",
   "execution_count": 55,
   "id": "bbf7e673-d1fb-4b4d-8c5b-6dc19147abed",
   "metadata": {},
   "outputs": [
    {
     "name": "stdout",
     "output_type": "stream",
     "text": [
      "385112 is the highest scenic score possible for any tree.\n"
     ]
    }
   ],
   "source": [
    "print(int(np.max(scenicscore)), 'is the highest scenic score possible for any tree.')"
   ]
  }
 ],
 "metadata": {
  "kernelspec": {
   "display_name": "AoC2022",
   "language": "python",
   "name": "aoc2022"
  },
  "language_info": {
   "codemirror_mode": {
    "name": "ipython",
    "version": 3
   },
   "file_extension": ".py",
   "mimetype": "text/x-python",
   "name": "python",
   "nbconvert_exporter": "python",
   "pygments_lexer": "ipython3",
   "version": "3.9.7"
  }
 },
 "nbformat": 4,
 "nbformat_minor": 5
}
