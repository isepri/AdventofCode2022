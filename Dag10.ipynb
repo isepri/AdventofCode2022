{
 "cells": [
  {
   "cell_type": "code",
   "execution_count": 1,
   "id": "a36f4a4f-67ac-4dbb-8beb-b68ec3bb5600",
   "metadata": {},
   "outputs": [],
   "source": [
    "with open('/appl/homedir/prinsl5/AoC2022/aoc2022/data/Dag10.txt') as t:\n",
    "    text = t.read().splitlines()"
   ]
  },
  {
   "cell_type": "code",
   "execution_count": 7,
   "id": "4c6b515e-bdaa-4f64-86d1-0d426df7a187",
   "metadata": {},
   "outputs": [],
   "source": [
    "def test_signal(cycle, value, signalstrength, crt):\n",
    "    # functie die wanneer de cycle in lijst zit de signalstrength berekend en opslaat (deel 1)\n",
    "    # en een # print wanneer de sprite overeenkomt met de plek waar de crt tekent, en anders '.' (deel 2)\n",
    "    # hierna wordt de cycle count geupdate.\n",
    "    if cycle in [20, 60, 100, 140, 180, 220]:\n",
    "        signalstrength += [(cycle * value)]\n",
    "    if ((cycle - 1) % 40) in [value, value -1, value + 1]:\n",
    "        crt += '#'\n",
    "    else:\n",
    "        crt += '.'\n",
    "    cycle += 1\n",
    "    return signalstrength, crt, cycle"
   ]
  },
  {
   "cell_type": "code",
   "execution_count": 8,
   "id": "bafe0e80-418b-495c-a8ac-b515cb744ba2",
   "metadata": {},
   "outputs": [],
   "source": [
    "# per instructie wordt X geupdate en het benodigde aantal cycles uitgevoerd\n",
    "cyc = 1\n",
    "X = 1\n",
    "incr = 0\n",
    "signal = []\n",
    "screen = ''\n",
    "\n",
    "for instr in text:\n",
    "    X += int(incr)\n",
    "    incr = 0\n",
    "    if instr != 'noop':\n",
    "        add, incr = instr.split()\n",
    "        signal, screen, cyc = test_signal(cyc, X, signal, screen)\n",
    "    signal, screen, cyc = test_signal(cyc, X, signal, screen)  "
   ]
  },
  {
   "cell_type": "markdown",
   "id": "f7767e58-48d9-4d40-9999-50f803254b80",
   "metadata": {},
   "source": [
    "### Deel 1"
   ]
  },
  {
   "cell_type": "code",
   "execution_count": 9,
   "id": "893066b7-e671-4445-a485-05baf79662be",
   "metadata": {},
   "outputs": [
    {
     "name": "stdout",
     "output_type": "stream",
     "text": [
      "The sum of these six signal strengths is: 12740\n"
     ]
    }
   ],
   "source": [
    "print('The sum of these six signal strengths is:', sum(signal))"
   ]
  },
  {
   "cell_type": "markdown",
   "id": "c04785c8-b01f-40ce-aea0-5f991444d981",
   "metadata": {},
   "source": [
    "### Deel 2"
   ]
  },
  {
   "cell_type": "code",
   "execution_count": 10,
   "id": "eec7bf39-d224-4aea-bf64-6226ece5fb34",
   "metadata": {},
   "outputs": [
    {
     "data": {
      "text/plain": [
       "['###..###..###...##..###...##...##..####.',\n",
       " '#..#.#..#.#..#.#..#.#..#.#..#.#..#.#....',\n",
       " '#..#.###..#..#.#..#.#..#.#..#.#....###..',\n",
       " '###..#..#.###..####.###..####.#.##.#....',\n",
       " '#.#..#..#.#....#..#.#.#..#..#.#..#.#....',\n",
       " '#..#.###..#....#..#.#..#.#..#..###.#....']"
      ]
     },
     "metadata": {},
     "output_type": "display_data"
    }
   ],
   "source": [
    "display([screen[n: n+40] for n in range(0, len(screen), 40)])"
   ]
  },
  {
   "cell_type": "code",
   "execution_count": null,
   "id": "95042c67-2af8-4d02-b55a-06445159e998",
   "metadata": {},
   "outputs": [],
   "source": []
  }
 ],
 "metadata": {
  "kernelspec": {
   "display_name": "AoC2022",
   "language": "python",
   "name": "aoc2022"
  },
  "language_info": {
   "codemirror_mode": {
    "name": "ipython",
    "version": 3
   },
   "file_extension": ".py",
   "mimetype": "text/x-python",
   "name": "python",
   "nbconvert_exporter": "python",
   "pygments_lexer": "ipython3",
   "version": "3.9.7"
  }
 },
 "nbformat": 4,
 "nbformat_minor": 5
}
