{
 "cells": [
  {
   "cell_type": "markdown",
   "id": "f8192d51-fa55-4db7-849f-84fa17cedba2",
   "metadata": {},
   "source": [
    "Laad data"
   ]
  },
  {
   "cell_type": "code",
   "execution_count": null,
   "id": "22121fd1-b84e-409b-b271-16ea03463996",
   "metadata": {},
   "outputs": [],
   "source": [
    "with open('/appl/homedir/prinsl5/AoC2022/aoc2022/data/Dag06.txt') as t:\n",
    "    text = t.read()"
   ]
  },
  {
   "cell_type": "code",
   "execution_count": null,
   "id": "53d9e831-a8f7-426c-80f8-ab71ba108a8e",
   "metadata": {},
   "outputs": [],
   "source": [
    "test = \"bvwbjplbgvbhsrlpgdmjqwftvncz\"\n",
    "test2 = 'nznrnfrfntjfmvfwmzdfjlvtqnbhcprsg'"
   ]
  },
  {
   "cell_type": "code",
   "execution_count": null,
   "id": "ac5769c8-78a0-4c2c-bbdc-36cc60315f7d",
   "metadata": {},
   "outputs": [],
   "source": [
    "def find_marker(signal, len_marker):\n",
    "    for n, ch in enumerate(signal):\n",
    "        if n > (len_marker):\n",
    "            marker = signal[n-len_marker:n]\n",
    "            test = []\n",
    "            for m, l in enumerate(marker):\n",
    "                if l not in (marker[:m] + marker[m+1:]):\n",
    "                    test += [True]\n",
    "                if len(test) == len_marker:\n",
    "                    if False not in test:\n",
    "                        return n"
   ]
  },
  {
   "cell_type": "code",
   "execution_count": null,
   "id": "f82b4faf-e172-4e35-89c9-a902ab03ad0a",
   "metadata": {},
   "outputs": [],
   "source": [
    "find_marker(text, 4)"
   ]
  },
  {
   "cell_type": "code",
   "execution_count": null,
   "id": "47fc9d81-eb32-4a17-aa54-e509b807513e",
   "metadata": {},
   "outputs": [],
   "source": [
    "find_marker(text, 14)"
   ]
  }
 ],
 "metadata": {
  "kernelspec": {
   "display_name": "AoC2022",
   "language": "python",
   "name": "aoc2022"
  },
  "language_info": {
   "codemirror_mode": {
    "name": "ipython",
    "version": 3
   },
   "file_extension": ".py",
   "mimetype": "text/x-python",
   "name": "python",
   "nbconvert_exporter": "python",
   "pygments_lexer": "ipython3",
   "version": "3.9.7"
  }
 },
 "nbformat": 4,
 "nbformat_minor": 5
}
