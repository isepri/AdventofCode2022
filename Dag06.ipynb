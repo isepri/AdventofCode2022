{
 "cells": [
  {
   "cell_type": "markdown",
   "id": "f8192d51-fa55-4db7-849f-84fa17cedba2",
   "metadata": {},
   "source": [
    "Laad data"
   ]
  },
  {
   "cell_type": "code",
   "execution_count": 2,
   "id": "22121fd1-b84e-409b-b271-16ea03463996",
   "metadata": {},
   "outputs": [],
   "source": [
    "with open('/appl/homedir/prinsl5/AoC2022/aoc2022/data/Dag06.txt') as t:\n",
    "    text = t.read()"
   ]
  },
  {
   "cell_type": "markdown",
   "id": "1bef7558-4043-4115-b2ac-69e9f352044b",
   "metadata": {},
   "source": [
    "Neem signal en lengte van de marker, loop over signal en bekijk telkens voor len_marker of een letter er al in zit. "
   ]
  },
  {
   "cell_type": "code",
   "execution_count": 3,
   "id": "ac5769c8-78a0-4c2c-bbdc-36cc60315f7d",
   "metadata": {},
   "outputs": [],
   "source": [
    "def find_marker(signal, len_marker):\n",
    "    for n, ch in enumerate(signal):\n",
    "        if n > (len_marker):\n",
    "            marker = signal[n-len_marker:n]\n",
    "            test = []\n",
    "            for m, l in enumerate(marker):\n",
    "                if l not in (marker[:m] + marker[m+1:]):\n",
    "                    test += [True]\n",
    "                if len(test) == len_marker:\n",
    "                    return n"
   ]
  },
  {
   "cell_type": "markdown",
   "id": "a4c9b545-490d-4b2d-be2a-2af675ec28ad",
   "metadata": {},
   "source": [
    "### Deel 1"
   ]
  },
  {
   "cell_type": "code",
   "execution_count": 4,
   "id": "f82b4faf-e172-4e35-89c9-a902ab03ad0a",
   "metadata": {},
   "outputs": [
    {
     "data": {
      "text/plain": [
       "1175"
      ]
     },
     "execution_count": 4,
     "metadata": {},
     "output_type": "execute_result"
    }
   ],
   "source": [
    "find_marker(text, 4)"
   ]
  },
  {
   "cell_type": "markdown",
   "id": "931c5d1d-deb3-4c73-891b-cb562b4df0c4",
   "metadata": {},
   "source": [
    "### Deel 2"
   ]
  },
  {
   "cell_type": "code",
   "execution_count": 5,
   "id": "47fc9d81-eb32-4a17-aa54-e509b807513e",
   "metadata": {},
   "outputs": [
    {
     "data": {
      "text/plain": [
       "3217"
      ]
     },
     "execution_count": 5,
     "metadata": {},
     "output_type": "execute_result"
    }
   ],
   "source": [
    "find_marker(text, 14)"
   ]
  }
 ],
 "metadata": {
  "kernelspec": {
   "display_name": "AoC2022",
   "language": "python",
   "name": "aoc2022"
  },
  "language_info": {
   "codemirror_mode": {
    "name": "ipython",
    "version": 3
   },
   "file_extension": ".py",
   "mimetype": "text/x-python",
   "name": "python",
   "nbconvert_exporter": "python",
   "pygments_lexer": "ipython3",
   "version": "3.9.7"
  }
 },
 "nbformat": 4,
 "nbformat_minor": 5
}
